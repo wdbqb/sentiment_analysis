{
 "cells": [
  {
   "metadata": {},
   "cell_type": "raw",
   "source": "",
   "id": "15a47cc4555616cb"
  },
  {
   "cell_type": "code",
   "id": "initial_id",
   "metadata": {
    "collapsed": true,
    "ExecuteTime": {
     "end_time": "2025-08-13T09:24:33.510303Z",
     "start_time": "2025-08-13T09:24:31.192775Z"
    }
   },
   "source": [
    "from google import genai\n",
    "from google.genai import types\n",
    "import json\n",
    "\n",
    "\n",
    "user_input = 'good job'\n",
    "\n",
    "def generate(user_input):\n",
    "  # define prompt and system instruction\n",
    "\n",
    "  system_instruction = \"\"\"You are an AI assistant specializing in sentiment analysis. Your task is to analyze user input and determine its sentiment, categorizing it as either positive, negative, or neutral.\"\"\"\n",
    "\n",
    "  prompt = types.Part.from_text(text=f\"\"\"Analyze the following user input and determine its sentiment. Provide the sentiment outcome and the reasoning behind your analysis in JSON format.\n",
    "\n",
    "  User Input:\n",
    "  {user_input}\n",
    "\n",
    "\n",
    "  Output the sentiment analysis in the following JSON format:\n",
    "\n",
    "\n",
    "  {{\n",
    "    \"sentiment\": \"positive | negative | neutral\",\n",
    "    \"reasoning\": \"Explanation of why the sentiment was classified as such.\"\n",
    "  }}\n",
    "\n",
    "\n",
    "  Example:\n",
    "\n",
    "\n",
    "  {{\n",
    "    \"sentiment\": \"positive\",\n",
    "    \"reasoning\": \"The user expressed satisfaction with the product and praised its features.\"\n",
    "  }}\n",
    "  ```\"\"\")\n",
    "\n",
    "  client = genai.Client(\n",
    "      vertexai=True,\n",
    "      project=\"sentiment-analysis-468823\",\n",
    "      location=\"global\",\n",
    "  )\n",
    "# prompt\n",
    "  text1 = prompt\n",
    "  si_text1 = system_instruction\n",
    "\n",
    "  model = \"gemini-2.5-flash-lite\"\n",
    "  contents = [\n",
    "    types.Content(\n",
    "      role=\"user\",\n",
    "      parts=[\n",
    "        text1\n",
    "      ]\n",
    "    )\n",
    "  ]\n",
    "\n",
    "  generate_content_config = types.GenerateContentConfig(\n",
    "    temperature = 0.2,\n",
    "    top_p = 0.3,\n",
    "    max_output_tokens = 65535,\n",
    "    safety_settings = [types.SafetySetting(\n",
    "      category=\"HARM_CATEGORY_HATE_SPEECH\",\n",
    "      threshold=\"OFF\"\n",
    "    ),types.SafetySetting(\n",
    "      category=\"HARM_CATEGORY_DANGEROUS_CONTENT\",\n",
    "      threshold=\"OFF\"\n",
    "    ),types.SafetySetting(\n",
    "      category=\"HARM_CATEGORY_SEXUALLY_EXPLICIT\",\n",
    "      threshold=\"OFF\"\n",
    "    ),types.SafetySetting(\n",
    "      category=\"HARM_CATEGORY_HARASSMENT\",\n",
    "      threshold=\"OFF\"\n",
    "    )],\n",
    "    system_instruction=[types.Part.from_text(text=si_text1)],\n",
    "    thinking_config=types.ThinkingConfig(\n",
    "      thinking_budget=0,\n",
    "    ),\n",
    "  )\n",
    "\n",
    "  response = client.models.generate_content(\n",
    "        model = model,\n",
    "        contents = contents,\n",
    "        config = generate_content_config)\n",
    "\n",
    "  # try:\n",
    "  #   result_json = json.loads(response.text)\n",
    "  # except json.JSONDecodeError:\n",
    "  #   result_json = {\"sentiment\": \"Unknown\", \"reasoning\": \"Parsing error\"}\n",
    "  print(response.text)\n",
    "\n",
    "  return response\n",
    "\n",
    "result =generate(user_input)\n",
    "\n",
    "\n",
    "\n",
    "\n",
    "\n"
   ],
   "outputs": [
    {
     "name": "stdout",
     "output_type": "stream",
     "text": [
      "```json\n",
      "{\n",
      "  \"sentiment\": \"positive\",\n",
      "  \"reasoning\": \"The phrase 'good job' is a direct expression of approval and commendation, indicating a positive sentiment.\"\n",
      "}\n",
      "```\n"
     ]
    }
   ],
   "execution_count": 9
  },
  {
   "metadata": {
    "ExecuteTime": {
     "end_time": "2025-08-13T10:17:21.432939Z",
     "start_time": "2025-08-13T10:17:21.429705Z"
    }
   },
   "cell_type": "code",
   "source": [
    "import re\n",
    "match = re.search(r'(\\{.*\\})', str(result), re.DOTALL)\n",
    "if match:\n",
    "    json_text = match.group(1)\n",
    "    data = json.loads(json_text)\n",
    "    print(\"Sentiment:\", data['sentiment'])\n",
    "    print(\"Reasoning:\", data['reasoning'])\n",
    "else:\n",
    "    print(\"No JSON found in response.\")\n"
   ],
   "id": "19986fe7d3723e32",
   "outputs": [
    {
     "name": "stdout",
     "output_type": "stream",
     "text": [
      "Sentiment: positive\n",
      "Reasoning: The phrase 'good job' is a direct expression of approval and commendation, indicating a positive sentiment.\n"
     ]
    }
   ],
   "execution_count": 20
  },
  {
   "metadata": {
    "ExecuteTime": {
     "end_time": "2025-08-13T09:23:48.785940Z",
     "start_time": "2025-08-13T09:23:48.768650Z"
    }
   },
   "cell_type": "code",
   "source": [
    "sentiment = result.get(\"sentiment\")  # e.g., \"positive\"\n",
    "reasoning = result.get(\"reasoning\")"
   ],
   "id": "4d82b319aabcf11e",
   "outputs": [
    {
     "ename": "AttributeError",
     "evalue": "'str' object has no attribute 'get'",
     "output_type": "error",
     "traceback": [
      "\u001B[31m---------------------------------------------------------------------------\u001B[39m",
      "\u001B[31mAttributeError\u001B[39m                            Traceback (most recent call last)",
      "\u001B[36mCell\u001B[39m\u001B[36m \u001B[39m\u001B[32mIn[8]\u001B[39m\u001B[32m, line 1\u001B[39m\n\u001B[32m----> \u001B[39m\u001B[32m1\u001B[39m sentiment = \u001B[43mresult\u001B[49m\u001B[43m.\u001B[49m\u001B[43mget\u001B[49m(\u001B[33m\"\u001B[39m\u001B[33msentiment\u001B[39m\u001B[33m\"\u001B[39m)  \u001B[38;5;66;03m# e.g., \"positive\"\u001B[39;00m\n\u001B[32m      2\u001B[39m reasoning = result.get(\u001B[33m\"\u001B[39m\u001B[33mreasoning\u001B[39m\u001B[33m\"\u001B[39m)\n",
      "\u001B[31mAttributeError\u001B[39m: 'str' object has no attribute 'get'"
     ]
    }
   ],
   "execution_count": 8
  }
 ],
 "metadata": {
  "kernelspec": {
   "display_name": "Python 3",
   "language": "python",
   "name": "python3"
  },
  "language_info": {
   "codemirror_mode": {
    "name": "ipython",
    "version": 2
   },
   "file_extension": ".py",
   "mimetype": "text/x-python",
   "name": "python",
   "nbconvert_exporter": "python",
   "pygments_lexer": "ipython2",
   "version": "2.7.6"
  }
 },
 "nbformat": 4,
 "nbformat_minor": 5
}
